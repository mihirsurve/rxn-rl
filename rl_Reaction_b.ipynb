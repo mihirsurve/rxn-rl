{
 "cells": [
  {
   "cell_type": "code",
   "execution_count": null,
   "metadata": {},
   "outputs": [],
   "source": [
    "!pip install kora q\n",
    "import kora.install.rdkit"
   ]
  },
  {
   "cell_type": "code",
   "execution_count": null,
   "metadata": {},
   "outputs": [],
   "source": [
    "from google.colab import drive\n",
    "drive.mount('/content/gdrive')"
   ]
  },
  {
   "cell_type": "code",
   "execution_count": null,
   "metadata": {
    "id": "oJfe6cEOptrU"
   },
   "outputs": [],
   "source": [
    "import sys\n",
    "sys.path.append('/content/gdrive/MyDrive/code/generator')\n",
    "sys.path.append('/content/gdrive/MyDrive/code/predictor')\n",
    "sys.path.append('/content/gdrive/MyDrive/code/reinforce')\n",
    "sys.path.append('/content/gdrive/MyDrive/code/result')\n",
    "sys.path.append('/content/gdrive/MyDrive/code/dataset')\n",
    "\n"
   ]
  },
  {
   "cell_type": "code",
   "execution_count": null,
   "metadata": {
    "id": "yQJvG3FVpqjj"
   },
   "outputs": [],
   "source": [
    "import argparse\n",
    "import os\n",
    "import numpy as np\n",
    "import pandas as pd\n",
    "import random\n",
    "import sys\n",
    "import torch\n",
    "import torch.nn as nn\n",
    "import torch.optim as optim\n",
    "from torch.utils.data import DataLoader\n",
    "from tqdm import tqdm\n",
    "\n",
    "from rdkit import Chem\n",
    "from rdkit.Chem import Draw\n",
    "from rdkit.Chem.Draw import IPythonConsole\n",
    "from rdkit import RDLogger \n",
    "\n",
    "\n",
    "from models import RNN, OneHotRNN, EarlyStopping\n",
    "from datasets import SmilesDataset, SelfiesDataset, SmilesCollate\n",
    "from functions import decrease_learning_rate, print_update, track_loss, \\\n",
    "     sample_smiles, write_smiles"
   ]
  },
  {
   "cell_type": "code",
   "execution_count": null,
   "metadata": {
    "id": "lH8d3zOnsOeE"
   },
   "outputs": [],
   "source": [
    "import matplotlib.pyplot as plt\n",
    "%matplotlib inline\n",
    "import seaborn as sns"
   ]
  },
  {
   "cell_type": "markdown",
   "metadata": {
    "id": "VEl3oIEXsm5s"
   },
   "source": [
    "#Load the Pre-trained Generator"
   ]
  },
  {
   "cell_type": "code",
   "execution_count": null,
   "metadata": {
    "id": "NrqIy4MJuZIj"
   },
   "outputs": [],
   "source": [
    "def load_model(model, path):\n",
    "        weights = torch.load(path)\n",
    "        model.load_state_dict(weights)\n",
    "\n",
    "\n",
    "def is_valid(smiles):\n",
    "  mol = Chem.MolFromSmiles(smiles)\n",
    "  if mol is not None and mol.GetNumAtoms()>0:\n",
    "    return smiles\n",
    "\n",
    "import warnings\n",
    "warnings.filterwarnings(\"ignore\")\n",
    "RDLogger.DisableLog('rdApp.*') # switch off RDKit warning messages"
   ]
  },
  {
   "cell_type": "code",
   "execution_count": null,
   "metadata": {
    "colab": {
     "base_uri": "https://localhost:8080/"
    },
    "id": "E7uZFO77se3V",
    "outputId": "68e550bf-ea5d-41d6-dc6e-ccd62bdc174d"
   },
   "outputs": [],
   "source": [
    "dataset = SmilesDataset(smiles_file='/content/gdrive/MyDrive/code/generator/pre-trained/chembl_500000.csv', vocab_file ='/content/gdrive/MyDrive/code/generator/pre-trained/vocab_chembl_500000_pat_50000')\n",
    "\n",
    "\n",
    "print(dataset.vocabulary)\n",
    "seed = 0\n",
    "batch_size = 128\n",
    "## seed all RNGs\n",
    "torch.manual_seed(seed)\n",
    "random.seed(seed)\n",
    "np.random.seed(seed)\n",
    "if torch.cuda.is_available():\n",
    "    print(\"using cuda\")\n",
    "    torch.cuda.manual_seed_all(seed)\n",
    "\n",
    "loader = DataLoader(dataset,\n",
    "                    batch_size=batch_size,\n",
    "                    shuffle=True,\n",
    "                    drop_last=True,\n",
    "                    collate_fn=SmilesCollate(dataset.vocabulary))\n",
    "\n",
    "model = RNN(vocabulary=dataset.vocabulary,\n",
    "                rnn_type='GRU',                      # str; RNN type choices=['RNN', 'LSTM', 'GRU']\n",
    "                embedding_size= 128,                 # int; embedding size\n",
    "                hidden_size=512,                     # int; size of language model hidden layers\n",
    "                n_layers=3,                          # int; number of layers in language model\n",
    "                dropout=0,                           # float; amount of dropout (0-1) to apply to model\n",
    "                bidirectional=False,                 # bool; for LSTMs only, train a bidirectional mode\n",
    "                tie_weights=False,\n",
    "                nonlinearity='tanh')\n",
    "# Print model's state_dict\n",
    "#print(\"Model's state_dict:\")\n",
    "#for param_tensor in model.state_dict():\n",
    "    #print(param_tensor, \"\\t\", model.state_dict()[param_tensor].size())\n",
    "\n",
    "\n",
    "model_path = '/content/gdrive/MyDrive/code/generator/pre-trained/checkpoint_chembl_500000_pat_50000'\n",
    "load_model(model, model_path)\n",
    "\n",
    "sampled_smiles = []\n",
    "\n",
    "sample_size = 500\n",
    "while len(sampled_smiles) < sample_size:\n",
    "    sampled_smiles.extend(model.sample(batch_size, return_smiles=True))\n",
    "\n",
    "\n",
    "mols = list(filter(is_valid,sampled_smiles)) # Valid\n",
    "print(\"Percentage of validity for pre-trained generator: \" + str((len(mols)/len(sampled_smiles))*100))\n"
   ]
  },
  {
   "cell_type": "markdown",
   "metadata": {
    "id": "cKElYw2ouz5k"
   },
   "source": [
    "#Load Predictor Model"
   ]
  },
  {
   "cell_type": "markdown",
   "metadata": {
    "id": "S2TIA_UgvJkx"
   },
   "source": [
    "Cloning of FASTAIv1"
   ]
  },
  {
   "cell_type": "code",
   "execution_count": null,
   "metadata": {},
   "outputs": [],
   "source": [
    "!git clone https://github.com/fastai/fastai1.git"
   ]
  },
  {
   "cell_type": "code",
   "execution_count": null,
   "metadata": {},
   "outputs": [],
   "source": [
    "!mv /content/fastai1 /content/fastai_pred1"
   ]
  },
  {
   "cell_type": "code",
   "execution_count": null,
   "metadata": {},
   "outputs": [],
   "source": [
    "!mv /content/fastai_pred1/fastai /content/fastai_pred1/fastai_pred"
   ]
  },
  {
   "cell_type": "code",
   "execution_count": null,
   "metadata": {
    "id": "qb0-EWCcyOm0"
   },
   "outputs": [],
   "source": [
    "import sys\n",
    "sys.path.append('/content/fastai_pred1')\n",
    "sys.path.append('/content/fastai_pred1/fastai_pred')"
   ]
  },
  {
   "cell_type": "code",
   "execution_count": null,
   "metadata": {
    "colab": {
     "base_uri": "https://localhost:8080/"
    },
    "id": "YB7k-H_Yviuz",
    "outputId": "261cb541-f682-46d9-dea4-f9a5e993d337"
   },
   "outputs": [],
   "source": [
    "\n",
    "\n",
    "from sklearn.model_selection import train_test_split\n",
    "\n",
    "\n",
    "from fastai_pred import *\n",
    "from fastai_pred.text import *\n",
    "from fastai_pred.vision import *\n",
    "from fastai_pred.imports import *\n",
    "\n",
    "\n",
    "import numpy as np\n",
    "import threading\n",
    "import random\n",
    "from sklearn.utils import shuffle\n",
    "import pandas as pd \n",
    "import numpy as np\n",
    "\n",
    "\n",
    "import os\n",
    "current_path = os.getcwd()\n",
    "print(current_path)"
   ]
  },
  {
   "cell_type": "code",
   "execution_count": null,
   "metadata": {
    "id": "wFS-8L51v18S"
   },
   "outputs": [],
   "source": [
    "import tl_Predictor_Reaction_b\n",
    "from tl_Predictor_Reaction_b import pred_init, train_reg, test_performance, test_performance, predictor "
   ]
  },
  {
   "cell_type": "code",
   "execution_count": null,
   "metadata": {
    "id": "0UPa2F6YwAM6"
   },
   "outputs": [],
   "source": [
    "#Parameter defining\n",
    "seed_tl = 1234\n",
    "batch_size = 128\n",
    "filename = pd.read_csv('/content/gdrive/MyDrive/code/dataset/Reaction_b.csv')\n",
    "augm = 100\n",
    "drp_out = 0.0 \n",
    "sigm_g = 0.3\n"
   ]
  },
  {
   "cell_type": "code",
   "execution_count": null,
   "metadata": {
    "colab": {
     "base_uri": "https://localhost:8080/",
     "height": 163
    },
    "id": "RxhbJt7Cxwqq",
    "outputId": "ac019c9b-21b0-4c91-ddc3-e13660846a81"
   },
   "outputs": [],
   "source": [
    "#Loading of pre-trained weight using Transfer Learning\n",
    "reg_learner_pre, train_aug , valid = pred_init(seed_tl, batch_size, filename, current_path, augm, drp_out, sigm_g)"
   ]
  },
  {
   "cell_type": "code",
   "execution_count": null,
   "metadata": {
    "colab": {
     "base_uri": "https://localhost:8080/",
     "height": 273
    },
    "id": "3NJ-pswFyeK5",
    "outputId": "63c86873-f027-4b96-c753-e723e2b5c42b"
   },
   "outputs": [],
   "source": [
    "test_rmse = test_performance(seed_tl, batch_size, filename, train_aug, valid, current_path, drp_out, sigm_g)"
   ]
  },
  {
   "cell_type": "markdown",
   "metadata": {
    "id": "z-xpocbmuuWj"
   },
   "source": [
    "#Fragment Reinforcement Learning"
   ]
  },
  {
   "cell_type": "code",
   "execution_count": null,
   "metadata": {
    "id": "Fe7z9ePMz0zx"
   },
   "outputs": [],
   "source": [
    "import numpy as np\n",
    "from tqdm import tqdm, trange\n",
    "import pickle\n",
    "from rdkit import Chem, DataStructs\n",
    "from rdkit.Chem import MACCSkeys\n",
    "from rdkit.Chem import AllChem, DataStructs\n",
    "import random\n",
    "\n",
    "import torch\n",
    "import torch.nn as nn\n",
    "from torch.optim.lr_scheduler import ExponentialLR, StepLR\n",
    "import torch.nn.functional as F\n",
    "\n",
    "import matplotlib.pyplot as plt\n",
    "%matplotlib inline\n",
    "import seaborn as sns"
   ]
  },
  {
   "cell_type": "code",
   "execution_count": null,
   "metadata": {
    "id": "Q2V_nNSctiaU"
   },
   "outputs": [],
   "source": [
    "import functions_rl\n",
    "from functions_rl import generate_allfragments, join_frag, usable_frag, permute, gen_firstatom_frag, plot_hist, tensor_to_array, canonical_smiles"
   ]
  },
  {
   "cell_type": "code",
   "execution_count": null,
   "metadata": {
    "id": "HzFlVV7xzLuM"
   },
   "outputs": [],
   "source": [
    "def add_othercomponents(smile, components = 'COc1ccc(cc1)/C=N/C(=O)c1ccccc1.Sc1ccccc1'):\n",
    "    return smile + '.' + components"
   ]
  },
  {
   "cell_type": "code",
   "execution_count": null,
   "metadata": {},
   "outputs": [],
   "source": [
    "## If you want combinatorial evaluation result then run this section\n",
    "\n",
    "\n",
    "thiol_list = ['SC1CCCCC1', 'Sc1ccccc1', 'Cc1ccccc1S', 'CCS', 'COc1ccc(cc1)S']\n",
    "imine_list = ['O=C(c1ccccc1)/N=C/c1ccccc1',\n",
    " 'O=C(c1ccccc1)/N=C/c1ccc(cc1)C(F)(F)F',\n",
    " 'O=C(c1ccccc1)/N=C/c1cccc2c1cccc2',\n",
    " 'Clc1ccc(c(c1)Cl)/C=N/C(=O)c1ccccc1',\n",
    " 'COc1ccc(cc1)/C=N/C(=O)c1ccccc1']\n",
    "thiol_name_list = ['TH1','TH2','TH3','TH4','TH5']\n",
    "imine_name_list =  ['IM1','IM2','IM3','IM4','IM5']\n",
    "\n",
    "def combinatorial_evaluation(lig_list, thiol_list, imine_list, tl_Predictor_Reaction_b):\n",
    "    lig_list =  np.asarray(lig_list, dtype=np.str_)\n",
    "    SF_thiol_pred_list = []\n",
    "    for i in range(len(imine_list)):\n",
    "        for j in range(len(thiol_list)):\n",
    "            current_list = []\n",
    "            for k in range(len(lig_list)):\n",
    "                #x = lig_list[k] + '.' + imine_list[i] + '.' + thiol_list[j]\n",
    "                #print(x)\n",
    "                current_list.append(lig_list[k] + '.' + imine_list[i] + '.' + thiol_list[j])\n",
    "            \n",
    "            smiles, prediction = tl_Predictor_Reaction_b.predictor(current_list, seed_tl, batch_size, filename, train_aug, valid, current_path, drp_out, sigm_g)\n",
    "            SF_thiol_pred_list.append(tensor_to_array(prediction).mean())\n",
    "            print(\"imine: \", imine_list[i])\n",
    "            print(\"thiol:\", thiol_list[j])\n",
    "            plot_hist(prediction, 1)\n",
    "\n",
    "    return SF_thiol_pred_list\n",
    "    \n"
   ]
  },
  {
   "cell_type": "code",
   "execution_count": null,
   "metadata": {
    "id": "HnVm7QLv3Zcn"
   },
   "outputs": [],
   "source": [
    "def novelty_score(mols,ref_mols): \n",
    "    return set.difference(mols,ref_mols)"
   ]
  },
  {
   "cell_type": "code",
   "execution_count": null,
   "metadata": {
    "id": "4pX0suHVdwLq"
   },
   "outputs": [],
   "source": [
    "def dataframe(smile, pred_val):\n",
    "  smile_df = pd.DataFrame(smile, columns = ['smiles'])\n",
    "  prediction_array = list(tensor_to_array(pred_val))\n",
    "  prediction_df = pd.DataFrame(prediction_array, columns = ['predicted_value'])\n",
    "  smile_pred_df  = pd.concat([smile_df,prediction_df], axis =1)\n",
    "  return smile_pred_df\n",
    " "
   ]
  },
  {
   "cell_type": "code",
   "execution_count": null,
   "metadata": {
    "colab": {
     "base_uri": "https://localhost:8080/"
    },
    "id": "Wp9uKXKg3lax",
    "outputId": "d81bd4c8-4ec9-4877-8a41-af85d0f0dff2"
   },
   "outputs": [],
   "source": [
    "smiles_train_file= pd.read_csv('/content/gdrive/MyDrive/code/generator/pre-trained/chembl_500000.csv', header= None)\n",
    "smiles_train_file.columns = ['smiles_train']\n",
    "#reference dataset\n",
    "obj_ref = list(set(smiles_train_file.smiles_train))\n",
    "print(len(obj_ref))"
   ]
  },
  {
   "cell_type": "code",
   "execution_count": null,
   "metadata": {
    "id": "agTPQDWHzRJF"
   },
   "outputs": [],
   "source": [
    "def estimate_and_update(gen, tl_Predictor_Reaction_b, n_to_generate, core_smi='OP1(Oc2c(c3c4ccccc4cc(*)c3O1)c5ccccc5cc2(*))=O', **kwargs):\n",
    "\n",
    "    rng = np.random.default_rng()\n",
    "    seed_value = rng.integers(low = 10000)\n",
    "\n",
    "    torch.cuda.manual_seed(seed_value)\n",
    "    torch.cuda.manual_seed_all(seed_value) # gpu vars\n",
    "    torch.backends.cudnn.deterministic = True  #needed\n",
    "    torch.backends.cudnn.benchmark = False\n",
    "\n",
    "    generated = []\n",
    "    generated_mol = []\n",
    "    pbar = tqdm(range(n_to_generate))\n",
    "    for i in pbar:\n",
    "        pbar.set_description(\"Generating molecules...\")\n",
    "        no_sample = 1\n",
    "        sampled_smiles = gen.sample(no_sample, max_len=100, return_smiles=True)\n",
    "        generated.append(sampled_smiles)\n",
    "        \n",
    "    generated = [ y for ys in generated for y in ys]\n",
    "  \n",
    "    generated_novel = []\n",
    "    \n",
    "    x = 0\n",
    "\n",
    "    for j in range(len(generated)):\n",
    "        if_smile = Chem.MolFromSmiles(generated[j])\n",
    "        if if_smile is not None:\n",
    "            x+=1\n",
    "\n",
    "            fragment = gen_firstatom_frag(generated[j])\n",
    "            mol = core_smi\n",
    "            for i in range(core_smi.count('(*)')):\n",
    "                mol = join_frag(mol, fragment)\n",
    "                mol = usable_frag(mol)\n",
    "\n",
    "            generated_novel.append(generated[j])\n",
    "            generated_mol.append(mol)\n",
    "            \n",
    "    if x==0:\n",
    "        return [], []\n",
    "\n",
    "    sanitized = canonical_smiles(generated_mol, sanitize=False, throw_warning=False)[:-1]\n",
    "    unique_smiles = list(np.unique(sanitized))[1:]\n",
    "\n",
    "    unique_components = []\n",
    "    for i in range(len(unique_smiles)):\n",
    "        unique_components.append(add_othercomponents(unique_smiles[i]))\n",
    "\n",
    "\n",
    "    smiles, prediction = tl_Predictor_Reaction_b.predictor(unique_components, seed_tl, batch_size, filename, train_aug, valid, current_path, drp_out, sigm_g)\n",
    "    \n",
    "    novel_mols = novelty_score(set(generated_novel), set(obj_ref))\n",
    "\n",
    "    print(\"Total number of valid fragment backbones generated:\", x)\n",
    "    print(\"Percentage of validity:\", (x/n_to_generate)*100)\n",
    "    print(\"Percentage of uniqueness\", (len(set(generated_novel))/n_to_generate)*100)\n",
    "    print(\"Percentage of novelty\", (len(novel_mols)/n_to_generate)*100)                                            \n",
    "    plot_hist(prediction, n_to_generate)\n",
    "\n",
    "    return smiles, prediction, unique_smiles"
   ]
  },
  {
   "cell_type": "markdown",
   "metadata": {
    "id": "ITnTXwXv0ulj"
   },
   "source": [
    "**Unbiased Generation**"
   ]
  },
  {
   "cell_type": "code",
   "execution_count": null,
   "metadata": {
    "colab": {
     "base_uri": "https://localhost:8080/",
     "height": 405
    },
    "id": "IrLGvj2G0N-6",
    "outputId": "eca2e437-707c-4f28-9fc5-575951dd84d1"
   },
   "outputs": [],
   "source": [
    "smiles_unbiased, prediction_unbiased, molecule_list =estimate_and_update(model, tl_Predictor_Reaction_b,\n",
    "                                                              n_to_generate=500)"
   ]
  },
  {
   "cell_type": "code",
   "execution_count": null,
   "metadata": {
    "id": "1D3HuKupZrva"
   },
   "outputs": [],
   "source": [
    "smile_pred_unbiased_df = dataframe(smiles_unbiased, prediction_unbiased)\n",
    "smile_pred_unbiased_df.to_csv('/content/gdrive/MyDrive/code/result/unbiased_Recation_b.csv')"
   ]
  },
  {
   "cell_type": "code",
   "execution_count": null,
   "metadata": {},
   "outputs": [],
   "source": [
    "## If you want to see the results of combinatorial evaluation, run this section\n",
    "pred_value_all_imine_thiol = combinatorial_evaluation(molecule_list, thiol_list, imine_list, tl_Predictor_Reaction_b)"
   ]
  },
  {
   "cell_type": "markdown",
   "metadata": {
    "id": "dN4Uc1nG00Lz"
   },
   "source": [
    "**Biased Generation**"
   ]
  },
  {
   "cell_type": "code",
   "execution_count": null,
   "metadata": {
    "id": "yjKrUp3m1WMa"
   },
   "outputs": [],
   "source": [
    "import fragment_rl_Reaction_b\n",
    "from fragment_rl_Reaction_b import Reinforcement"
   ]
  },
  {
   "cell_type": "code",
   "execution_count": null,
   "metadata": {
    "id": "GTJF0PXQ0x1S"
   },
   "outputs": [],
   "source": [
    "n_to_generate = 500\n",
    "n_policy_replay = 10\n",
    "n_policy = 5\n",
    "n_iterations = 10"
   ]
  },
  {
   "cell_type": "code",
   "execution_count": null,
   "metadata": {
    "id": "fHOQnjhF07Cz"
   },
   "outputs": [],
   "source": [
    "def simple_moving_average(previous_values, new_value, ma_window_size=10):\n",
    "    value_ma = np.sum(previous_values[-(ma_window_size-1):]) + new_value\n",
    "    value_ma = value_ma/(len(previous_values[-(ma_window_size-1):]) + 1)\n",
    "    return value_ma"
   ]
  },
  {
   "cell_type": "code",
   "execution_count": null,
   "metadata": {
    "id": "Al3L5SzW093L"
   },
   "outputs": [],
   "source": [
    "def get_reward(smiles, tl_Predictor_Reaction_b, invalid_reward=0.0):\n",
    "    rewards = np.zeros([len(smiles)])\n",
    "    \n",
    "    mol, prop = tl_Predictor_Reaction_b.predictor(smiles, seed_tl, batch_size, filename, train_aug, valid, current_path, drp_out, sigm_g)\n",
    "\n",
    "    for i in range(len(smiles)):\n",
    "        if smiles[i] is '':\n",
    "            rewards[i] = -2\n",
    "        else:\n",
    "            pred = tensor_to_array(prop)\n",
    "            if pred[i] != pred[i]:\n",
    "                rewards.append(invalid_reward)\n",
    "            else:\n",
    "                t=int((pred[i]-50)/5)\n",
    "                if t<0:\n",
    "                    t=0\n",
    "                rewards[i] = ((t*2)+1)\n",
    "    return rewards"
   ]
  },
  {
   "cell_type": "code",
   "execution_count": null,
   "metadata": {},
   "outputs": [],
   "source": [
    "def get_pred_val(smiles, tl_Predictor_Reaction_b):\n",
    "    generated_novel = []\n",
    "    for j in range(len(smiles)):\n",
    "        if_smile = Chem.MolFromSmiles(smiles[j])\n",
    "        if if_smile is not None:\n",
    "            generated_novel.append(smiles[j])  \n",
    "    unique_components = list(np.unique(generated_novel))\n",
    "    mol, prop = tl_Predictor_Reaction_b.predictor(unique_components, seed_tl, batch_size, filename, train_aug, valid, current_path, drp_out, sigm_g)\n",
    "    prop_new = tensor_to_array(prop)\n",
    "    return prop_new"
   ]
  },
  {
   "cell_type": "code",
   "execution_count": null,
   "metadata": {
    "id": "oPckrKsT1BOj"
   },
   "outputs": [],
   "source": [
    "RL_max = Reinforcement(model, tl_Predictor_Reaction_b, get_reward, get_pred_val)"
   ]
  },
  {
   "cell_type": "code",
   "execution_count": null,
   "metadata": {
    "id": "be9MUo891D8C"
   },
   "outputs": [],
   "source": [
    "rewards_max = []\n",
    "rl_losses_max = []\n",
    "pred_Reinforce_max_plot = []"
   ]
  },
  {
   "cell_type": "code",
   "execution_count": null,
   "metadata": {
    "colab": {
     "base_uri": "https://localhost:8080/",
     "height": 1000
    },
    "id": "lyzybBkD1Iay",
    "outputId": "37c90948-718d-45f8-eb1e-1845d1ff503d"
   },
   "outputs": [],
   "source": [
    "for i in range(n_iterations):\n",
    "    for j in trange(n_policy, desc='Policy gradient...'):\n",
    "        cur_reward, cur_loss, cur_pred = RL_max.policy_gradient(dataset.vocabulary)\n",
    "        pred_Reinforce_max_plot.append(cur_pred)\n",
    "        rewards_max.append(simple_moving_average(rewards_max, cur_reward)) \n",
    "        rl_losses_max.append(simple_moving_average(rl_losses_max, cur_loss))\n",
    "        \n",
    "    plt.plot(rewards_max)\n",
    "    plt.xlabel('Training iteration')\n",
    "    plt.ylabel('Average reward')\n",
    "    plt.show()\n",
    "    plt.plot(rl_losses_max)\n",
    "    plt.xlabel('Training iteration')\n",
    "    plt.ylabel('Loss')\n",
    "    plt.show()\n",
    "    plt.plot(pred_Reinforce_max_plot)\n",
    "    plt.xlabel('Training iteration')\n",
    "    plt.ylabel('Predicted value')\n",
    "    plt.show()\n",
    "\n",
    "    \n",
    "\n",
    "    smiles_cur, prediction_cur, molecule_list_ =estimate_and_update(RL_max.generator, tl_Predictor_Reaction_b,\n",
    "                                                    n_to_generate=n_to_generate)\n",
    "    print('Sample trajectories:')\n",
    "    for sm in smiles_cur[:5]:\n",
    "        print(sm)\n"
   ]
  },
  {
   "cell_type": "code",
   "execution_count": null,
   "metadata": {
    "colab": {
     "base_uri": "https://localhost:8080/",
     "height": 405
    },
    "id": "1I3ncbv01L3N",
    "outputId": "258c6d32-b45b-4b84-a8bc-5b088a76db73"
   },
   "outputs": [],
   "source": [
    "smiles_bias500, prediction_bias500, molecule_list_bias_500 =estimate_and_update(RL_max.generator, tl_Predictor_Reaction_b, n_to_generate=500)"
   ]
  },
  {
   "cell_type": "code",
   "execution_count": null,
   "metadata": {},
   "outputs": [],
   "source": [
    "smile_pred_biased_df = dataframe(smiles_bias500, prediction_bias500)\n",
    "smile_pred_biased_df.to_csv('/content/gdrive/MyDrive/code/result/biased_Recation_b.csv')"
   ]
  },
  {
   "cell_type": "code",
   "execution_count": null,
   "metadata": {
    "id": "rv_gPoEGhsBW"
   },
   "outputs": [],
   "source": [
    "## If you want to see the results of combinatorial evaluation, run this section\n",
    "pred_value_all_base_sf_bias = combinatorial_evaluation(molecule_list_bias_500, thiol_list, imine_list, tl_Predictor_Reaction_b)"
   ]
  }
 ],
 "metadata": {
  "accelerator": "GPU",
  "colab": {
   "collapsed_sections": [],
   "provenance": []
  },
  "gpuClass": "standard",
  "kernelspec": {
   "display_name": "Python 3",
   "language": "python",
   "name": "python3"
  },
  "language_info": {
   "codemirror_mode": {
    "name": "ipython",
    "version": 3
   },
   "file_extension": ".py",
   "mimetype": "text/x-python",
   "name": "python",
   "nbconvert_exporter": "python",
   "pygments_lexer": "ipython3",
   "version": "3.7.4"
  }
 },
 "nbformat": 4,
 "nbformat_minor": 1
}
