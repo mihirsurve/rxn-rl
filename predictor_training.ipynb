{
 "cells": [
  {
   "cell_type": "markdown",
   "metadata": {
    "id": "2cCldiJNpWyo"
   },
   "source": [
    "RDKIT installation"
   ]
  },
  {
   "cell_type": "code",
   "execution_count": null,
   "metadata": {
    "id": "8cagfEL0palg"
   },
   "outputs": [],
   "source": [
    "!pip install kora q\n",
    "import kora.install.rdkit"
   ]
  },
  {
   "cell_type": "markdown",
   "metadata": {
    "id": "Lrnjmm4bpi7y"
   },
   "source": [
    "Google Drive Mounting"
   ]
  },
  {
   "cell_type": "code",
   "execution_count": null,
   "metadata": {
    "colab": {
     "base_uri": "https://localhost:8080/"
    },
    "id": "Xzh6pScEpetU",
    "outputId": "a32da589-6a59-4d69-d371-9f6e3bb2c77b"
   },
   "outputs": [],
   "source": [
    "from google.colab import drive\n",
    "drive.mount('/content/gdrive')"
   ]
  },
  {
   "cell_type": "code",
   "execution_count": null,
   "metadata": {
    "id": "Z4vK6hXVnnGO"
   },
   "outputs": [],
   "source": [
    "import sys\n",
    "sys.path.append('/content/gdrive/MyDrive/code/generator')\n",
    "sys.path.append('/content/gdrive/MyDrive/code/predictor')\n",
    "sys.path.append('/content/gdrive/MyDrive/code/reinforce')\n",
    "sys.path.append('/content/gdrive/MyDrive/code/result')\n",
    "sys.path.append('/content/gdrive/MyDrive/code/dataset')\n"
   ]
  },
  {
   "cell_type": "markdown",
   "metadata": {
    "id": "S2TIA_UgvJkx"
   },
   "source": [
    "Cloning of FASTAIv1"
   ]
  },
  {
   "cell_type": "code",
   "execution_count": null,
   "metadata": {
    "colab": {
     "base_uri": "https://localhost:8080/"
    },
    "id": "1I_Md-WlvJlJ",
    "outputId": "e3859d82-80d9-41c2-f16e-0c928981627e"
   },
   "outputs": [],
   "source": [
    "!git clone https://github.com/fastai/fastai1.git"
   ]
  },
  {
   "cell_type": "code",
   "execution_count": null,
   "metadata": {
    "id": "WQYIYWVjpAVt"
   },
   "outputs": [],
   "source": [
    "!mv /content/fastai1 /content/fastai_pred1"
   ]
  },
  {
   "cell_type": "code",
   "execution_count": null,
   "metadata": {
    "id": "q142eirNqKEN"
   },
   "outputs": [],
   "source": [
    "!mv /content/fastai_pred1/fastai /content/fastai_pred1/fastai_pred"
   ]
  },
  {
   "cell_type": "code",
   "execution_count": null,
   "metadata": {
    "id": "_kvrJYzYvJlK"
   },
   "outputs": [],
   "source": [
    "import sys\n",
    "sys.path.append('/content/fastai_pred1')\n",
    "sys.path.append('/content/fastai_pred1/fastai_pred')"
   ]
  },
  {
   "cell_type": "code",
   "execution_count": null,
   "metadata": {
    "colab": {
     "base_uri": "https://localhost:8080/"
    },
    "id": "YB7k-H_Yviuz",
    "outputId": "1239fb45-575c-4e03-8853-ac43b2900e7b"
   },
   "outputs": [],
   "source": [
    "from sklearn.model_selection import train_test_split\n",
    "\n",
    "\n",
    "from fastai_pred import *\n",
    "from fastai_pred.text import *\n",
    "from fastai_pred.vision import *\n",
    "from fastai_pred.imports import *\n",
    "\n",
    "import numpy as np\n",
    "import threading\n",
    "import random\n",
    "from sklearn.utils import shuffle\n",
    "import pandas as pd \n",
    "import numpy as np\n",
    "\n",
    "\n",
    "import os\n",
    "current_path = os.getcwd()\n",
    "print(current_path)"
   ]
  },
  {
   "cell_type": "code",
   "execution_count": null,
   "metadata": {
    "id": "wFS-8L51v18S"
   },
   "outputs": [],
   "source": [
    "import tl_Predictor_Reaction\n",
    "from tl_Predictor_Reaction import pred_init, train_reg, test_performance, test_performance, predictor"
   ]
  },
  {
   "cell_type": "code",
   "execution_count": null,
   "metadata": {
    "id": "0UPa2F6YwAM6"
   },
   "outputs": [],
   "source": [
    "#Parameter defining\n",
    "seed_tl = 1234\n",
    "batch_size = 128\n",
    "filename = pd.read_csv('/content/gdrive/MyDrive/code/dataset/Reaction_a.csv') ## Put the dataset of interest\n",
    "augm = 100\n",
    "drp_out = 0.0 \n",
    "sigm_g = 0.0"
   ]
  },
  {
   "cell_type": "code",
   "execution_count": null,
   "metadata": {
    "colab": {
     "base_uri": "https://localhost:8080/"
    },
    "id": "RxhbJt7Cxwqq",
    "outputId": "fd0f0b08-9d5c-433a-c190-bf3fcf58a468"
   },
   "outputs": [],
   "source": [
    "#Loading of pre-trained weight using Transfer Learning\n",
    "reg_learner_pre, train_aug , valid = pred_init(seed_tl, batch_size, filename, current_path, augm, drp_out, sigm_g)"
   ]
  },
  {
   "cell_type": "code",
   "execution_count": null,
   "metadata": {
    "id": "FOelm3QSr6xs"
   },
   "outputs": [],
   "source": [
    "unf1 = 6\n",
    "unf2 = 6\n",
    "unf3 = 6\n",
    "unf4 = 10\n",
    "\n",
    "reg_learner_trained = train_reg(unf1, unf2, unf3, unf4, reg_learner_pre)\n",
    "\n",
    "# Choose checkpoint file of trained target-task regressor according to your dataset [reg_Reaction_a/reg_Reaction_b/reg_Reaction_c]\n",
    "reg_learner_trained.save(f'/content/gdrive/MyDrive/code/regressor/models/reg_Reaction_a')  "
   ]
  },
  {
   "cell_type": "code",
   "execution_count": null,
   "metadata": {
    "id": "3NJ-pswFyeK5"
   },
   "outputs": [],
   "source": [
    "test_rmse = test_performance(seed_tl, batch_size, filename, train_aug, valid, current_path, drp_out, sigm_g)"
   ]
  }
 ],
 "metadata": {
  "accelerator": "GPU",
  "colab": {
   "collapsed_sections": [],
   "provenance": []
  },
  "kernelspec": {
   "display_name": "Python 3",
   "language": "python",
   "name": "python3"
  },
  "language_info": {
   "codemirror_mode": {
    "name": "ipython",
    "version": 3
   },
   "file_extension": ".py",
   "mimetype": "text/x-python",
   "name": "python",
   "nbconvert_exporter": "python",
   "pygments_lexer": "ipython3",
   "version": "3.7.4"
  }
 },
 "nbformat": 4,
 "nbformat_minor": 1
}
